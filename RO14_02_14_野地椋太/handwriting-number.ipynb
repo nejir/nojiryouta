{
 "cells": [
  {
   "cell_type": "code",
   "execution_count": 1,
   "metadata": {
    "collapsed": true
   },
   "outputs": [
    {
     "name": "stderr",
     "output_type": "stream",
     "text": [
      "C:\\Users\\81804\\anaconda3\\lib\\site-packages\\tensorflow\\python\\framework\\dtypes.py:516: FutureWarning: Passing (type, 1) or '1type' as a synonym of type is deprecated; in a future version of numpy, it will be understood as (type, (1,)) / '(1,)type'.\n",
      "  _np_qint8 = np.dtype([(\"qint8\", np.int8, 1)])\n",
      "C:\\Users\\81804\\anaconda3\\lib\\site-packages\\tensorflow\\python\\framework\\dtypes.py:517: FutureWarning: Passing (type, 1) or '1type' as a synonym of type is deprecated; in a future version of numpy, it will be understood as (type, (1,)) / '(1,)type'.\n",
      "  _np_quint8 = np.dtype([(\"quint8\", np.uint8, 1)])\n",
      "C:\\Users\\81804\\anaconda3\\lib\\site-packages\\tensorflow\\python\\framework\\dtypes.py:518: FutureWarning: Passing (type, 1) or '1type' as a synonym of type is deprecated; in a future version of numpy, it will be understood as (type, (1,)) / '(1,)type'.\n",
      "  _np_qint16 = np.dtype([(\"qint16\", np.int16, 1)])\n",
      "C:\\Users\\81804\\anaconda3\\lib\\site-packages\\tensorflow\\python\\framework\\dtypes.py:519: FutureWarning: Passing (type, 1) or '1type' as a synonym of type is deprecated; in a future version of numpy, it will be understood as (type, (1,)) / '(1,)type'.\n",
      "  _np_quint16 = np.dtype([(\"quint16\", np.uint16, 1)])\n",
      "C:\\Users\\81804\\anaconda3\\lib\\site-packages\\tensorflow\\python\\framework\\dtypes.py:520: FutureWarning: Passing (type, 1) or '1type' as a synonym of type is deprecated; in a future version of numpy, it will be understood as (type, (1,)) / '(1,)type'.\n",
      "  _np_qint32 = np.dtype([(\"qint32\", np.int32, 1)])\n",
      "C:\\Users\\81804\\anaconda3\\lib\\site-packages\\tensorflow\\python\\framework\\dtypes.py:525: FutureWarning: Passing (type, 1) or '1type' as a synonym of type is deprecated; in a future version of numpy, it will be understood as (type, (1,)) / '(1,)type'.\n",
      "  np_resource = np.dtype([(\"resource\", np.ubyte, 1)])\n",
      "C:\\Users\\81804\\anaconda3\\lib\\site-packages\\tensorboard\\compat\\tensorflow_stub\\dtypes.py:541: FutureWarning: Passing (type, 1) or '1type' as a synonym of type is deprecated; in a future version of numpy, it will be understood as (type, (1,)) / '(1,)type'.\n",
      "  _np_qint8 = np.dtype([(\"qint8\", np.int8, 1)])\n",
      "C:\\Users\\81804\\anaconda3\\lib\\site-packages\\tensorboard\\compat\\tensorflow_stub\\dtypes.py:542: FutureWarning: Passing (type, 1) or '1type' as a synonym of type is deprecated; in a future version of numpy, it will be understood as (type, (1,)) / '(1,)type'.\n",
      "  _np_quint8 = np.dtype([(\"quint8\", np.uint8, 1)])\n",
      "C:\\Users\\81804\\anaconda3\\lib\\site-packages\\tensorboard\\compat\\tensorflow_stub\\dtypes.py:543: FutureWarning: Passing (type, 1) or '1type' as a synonym of type is deprecated; in a future version of numpy, it will be understood as (type, (1,)) / '(1,)type'.\n",
      "  _np_qint16 = np.dtype([(\"qint16\", np.int16, 1)])\n",
      "C:\\Users\\81804\\anaconda3\\lib\\site-packages\\tensorboard\\compat\\tensorflow_stub\\dtypes.py:544: FutureWarning: Passing (type, 1) or '1type' as a synonym of type is deprecated; in a future version of numpy, it will be understood as (type, (1,)) / '(1,)type'.\n",
      "  _np_quint16 = np.dtype([(\"quint16\", np.uint16, 1)])\n",
      "C:\\Users\\81804\\anaconda3\\lib\\site-packages\\tensorboard\\compat\\tensorflow_stub\\dtypes.py:545: FutureWarning: Passing (type, 1) or '1type' as a synonym of type is deprecated; in a future version of numpy, it will be understood as (type, (1,)) / '(1,)type'.\n",
      "  _np_qint32 = np.dtype([(\"qint32\", np.int32, 1)])\n",
      "C:\\Users\\81804\\anaconda3\\lib\\site-packages\\tensorboard\\compat\\tensorflow_stub\\dtypes.py:550: FutureWarning: Passing (type, 1) or '1type' as a synonym of type is deprecated; in a future version of numpy, it will be understood as (type, (1,)) / '(1,)type'.\n",
      "  np_resource = np.dtype([(\"resource\", np.ubyte, 1)])\n"
     ]
    },
    {
     "name": "stdout",
     "output_type": "stream",
     "text": [
      "WARNING:tensorflow:From <ipython-input-1-f7b43b4db27c>:7: read_data_sets (from tensorflow.contrib.learn.python.learn.datasets.mnist) is deprecated and will be removed in a future version.\n",
      "Instructions for updating:\n",
      "Please use alternatives such as official/mnist/dataset.py from tensorflow/models.\n",
      "WARNING:tensorflow:From C:\\Users\\81804\\anaconda3\\lib\\site-packages\\tensorflow\\contrib\\learn\\python\\learn\\datasets\\mnist.py:260: maybe_download (from tensorflow.contrib.learn.python.learn.datasets.base) is deprecated and will be removed in a future version.\n",
      "Instructions for updating:\n",
      "Please write your own downloading logic.\n",
      "WARNING:tensorflow:From C:\\Users\\81804\\anaconda3\\lib\\site-packages\\tensorflow\\contrib\\learn\\python\\learn\\datasets\\mnist.py:262: extract_images (from tensorflow.contrib.learn.python.learn.datasets.mnist) is deprecated and will be removed in a future version.\n",
      "Instructions for updating:\n",
      "Please use tf.data to implement this functionality.\n",
      "Extracting MNIST_data/train-images-idx3-ubyte.gz\n",
      "WARNING:tensorflow:From C:\\Users\\81804\\anaconda3\\lib\\site-packages\\tensorflow\\contrib\\learn\\python\\learn\\datasets\\mnist.py:267: extract_labels (from tensorflow.contrib.learn.python.learn.datasets.mnist) is deprecated and will be removed in a future version.\n",
      "Instructions for updating:\n",
      "Please use tf.data to implement this functionality.\n",
      "Extracting MNIST_data/train-labels-idx1-ubyte.gz\n",
      "WARNING:tensorflow:From C:\\Users\\81804\\anaconda3\\lib\\site-packages\\tensorflow\\contrib\\learn\\python\\learn\\datasets\\mnist.py:110: dense_to_one_hot (from tensorflow.contrib.learn.python.learn.datasets.mnist) is deprecated and will be removed in a future version.\n",
      "Instructions for updating:\n",
      "Please use tf.one_hot on tensors.\n",
      "Extracting MNIST_data/t10k-images-idx3-ubyte.gz\n",
      "Extracting MNIST_data/t10k-labels-idx1-ubyte.gz\n",
      "WARNING:tensorflow:From C:\\Users\\81804\\anaconda3\\lib\\site-packages\\tensorflow\\contrib\\learn\\python\\learn\\datasets\\mnist.py:290: DataSet.__init__ (from tensorflow.contrib.learn.python.learn.datasets.mnist) is deprecated and will be removed in a future version.\n",
      "Instructions for updating:\n",
      "Please use alternatives such as official/mnist/dataset.py from tensorflow/models.\n"
     ]
    }
   ],
   "source": [
    "import tensorflow as tf\n",
    "import numpy as np\n",
    "\n",
    "from tensorflow.contrib.learn.python.learn.datasets import mnist as mnist_loader\n",
    "\n",
    "mnist = mnist_loader.read_data_sets(\"MNIST_data/\", one_hot=True)"
   ]
  },
  {
   "cell_type": "code",
   "execution_count": 2,
   "metadata": {},
   "outputs": [
    {
     "name": "stdout",
     "output_type": "stream",
     "text": [
      "Extracting MNIST_data/train-images-idx3-ubyte.gz\n",
      "Extracting MNIST_data/train-labels-idx1-ubyte.gz\n",
      "Extracting MNIST_data/t10k-images-idx3-ubyte.gz\n",
      "Extracting MNIST_data/t10k-labels-idx1-ubyte.gz\n"
     ]
    }
   ],
   "source": [
    "import tensorflow as tf\n",
    "import numpy as np\n",
    "\n",
    "from tensorflow.contrib.learn.python.learn.datasets import mnist as mnist_loader\n",
    "\n",
    "# 手書き数字の学習データを読み込み\n",
    "mnist = mnist_loader.read_data_sets(\"MNIST_data/\", one_hot=True)\n",
    "\n",
    "# ニューラルネットワークサイズ等設定値を指定。\n",
    "x = tf.placeholder(\"float\",[None,784])\n",
    "Weight = tf.Variable(tf.zeros([784,10])) # 縦28セル*横28セルなので、ニューラルネットワークの第1層は。784\n",
    "b = tf.Variable(tf.zeros([10])) # 第2層は10個のニューロンを設定。10個の数字の対応する箇所の値が大きくなるよう学習させる\n",
    "y = tf.nn.softmax(tf.matmul(x,Weight)+b)\n",
    "y_ = tf.placeholder(\"float\",[None,10])\n",
    "cross_entropy = -tf.reduce_sum(y_*tf.log(y))\n",
    "train_step = tf.train.GradientDescentOptimizer(0.01).minimize(cross_entropy)\n",
    "\n",
    "# 学習の実行。ニューラルネットワークに学習させる回数は1200回。\n",
    "init = tf.global_variables_initializer() \n",
    "ss = tf.InteractiveSession()\n",
    "ss.run(init)\n",
    "\n",
    "for times in range(1200):\n",
    "    xb, yb = mnist.train.next_batch(100)\n",
    "    ss.run(train_step, feed_dict={x: xb, y_: yb})"
   ]
  },
  {
   "cell_type": "code",
   "execution_count": 4,
   "metadata": {},
   "outputs": [
    {
     "data": {
      "text/plain": [
       "<matplotlib.image.AxesImage at 0x2171c861248>"
      ]
     },
     "execution_count": 4,
     "metadata": {},
     "output_type": "execute_result"
    },
    {
     "data": {
      "image/png": "[encoded data removed]",
      "text/plain": [
       "<Figure size 576x432 with 1 Axes>"
      ]
     },
     "metadata": {
      "needs_background": "light"
     },
     "output_type": "display_data"
    }
   ],
   "source": [
    "import matplotlib.pyplot as plt\n",
    "\n",
    "# 学習データの可視化\n",
    "index_test_image = 12 #何番目のデータを可視化するかここで指定\n",
    "\n",
    "fig = plt.figure(figsize=(8, 6))\n",
    "ax1 = fig.add_subplot(2, 1, 1)\n",
    "ax1.imshow(mnist.test.images[index_test_image].reshape([28, 28]), cmap=\"Greys\")"
   ]
  },
  {
   "cell_type": "code",
   "execution_count": 6,
   "metadata": {},
   "outputs": [
    {
     "data": {
      "text/plain": [
       "<matplotlib.image.AxesImage at 0x2171d77b5c8>"
      ]
     },
     "execution_count": 6,
     "metadata": {},
     "output_type": "execute_result"
    },
    {
     "data": {
      "image/png": "[encoded data removed]",
      "text/plain": [
       "<Figure size 1080x720 with 1 Axes>"
      ]
     },
     "metadata": {
      "needs_background": "light"
     },
     "output_type": "display_data"
    }
   ],
   "source": [
    "# 重みの可視化\n",
    "\n",
    "weight = Weight.eval().T\n",
    "fig = plt.figure(figsize=(15, 10))\n",
    "\n",
    "# 0可視化する数字を指定。ここでは9を指定。\n",
    "targetNum = 9; \n",
    "\n",
    "ax = fig.add_subplot(2, 1, 1)\n",
    "ax.imshow(weight[targetNum].reshape([28, 28]), cmap=\"Greys\")"
   ]
  },
  {
   "cell_type": "code",
   "execution_count": 13,
   "metadata": {},
   "outputs": [
    {
     "data": {
      "text/html": [
       "\n",
       "    使い方：<BR>\n",
       "    ①黄色の範囲内にマウスでに数字を書きます<BR>\n",
       "    <canvas id=\"numArea\" height=\"28px\" width=\"28px\" \n",
       "    style=\"border: 3px double #999999; background-color:yellow;\"></canvas>\n",
       "    <BR>\n",
       "\n",
       "    <button id=\"save\">②このボタンを押すと数値（配列）に変換されます</button>\n",
       "    <BR>\n",
       "    （書き直す場合はセルを再実行して下さい）\n",
       "    <script>\n",
       "        var kernel = IPython.notebook.kernel;\n",
       "\n",
       "        var currentX ;\n",
       "        var currentY ;\n",
       "        var isMoving = 0;\n",
       "\n",
       "        var imgDecoded \n",
       "            = 'imgArray = np.asarray(Image.open(BytesIO(base64.b64decode(imgDataSp))))[:,:,3]'\n",
       "        var save = document.getElementById(\"save\");\n",
       "        var numArea = document.getElementById(\"numArea\");\n",
       "        var context;\n",
       "        if (numArea.getContext(\"2d\")){\n",
       "            context = numArea.getContext(\"2d\");\n",
       "        }\n",
       "\n",
       "        save.addEventListener(\"click\", function(){\n",
       "            kernel.execute(\"imgData = '\" + numArea.toDataURL() + \"'\");\n",
       "            kernel.execute('imgDataSp = imgData.split(\",\")[-1]');\n",
       "            kernel.execute('imgArray = '+imgDecoded);\n",
       "        });\n",
       "\n",
       "        numArea.addEventListener(\"mouseup\", end, false);\n",
       "        numArea.addEventListener(\"mousemove\", move, false);\n",
       "        numArea.addEventListener(\"mousedown\", start, false);\n",
       "\n",
       "        function end(evt){\n",
       "            if(isMoving === 0){\n",
       "               context.lineTo(currentX-1, currentY-1);\n",
       "               context.lineWidth = 2;\n",
       "               context.stroke();\n",
       "\n",
       "            }\n",
       "            isMoving = 0;\n",
       "        }\n",
       "\n",
       "        function move(evt){\n",
       "          if(evt.buttons === 1 || evt.witch === 1 ){\n",
       "            currentX = evt.layerX;\n",
       "            currentY = evt.layerY;\n",
       "            isMoving = 1;\n",
       "\n",
       "            context.lineTo(currentX, currentY);\n",
       "            context.lineWidth = 2;\n",
       "            context.stroke();\n",
       "          }\n",
       "        }\n",
       "\n",
       "        function start(evt){\n",
       "          evt.preventDefault();\n",
       "          context.beginPath();\n",
       "\n",
       "          currentX = evt.layerX;\n",
       "          currentY = evt.layerY;\n",
       "\n",
       "          context.moveTo(currentX, currentY);\n",
       "        }\n",
       "\n",
       "    </script>\n"
      ],
      "text/plain": [
       "<IPython.core.display.HTML object>"
      ]
     },
     "execution_count": 13,
     "metadata": {},
     "output_type": "execute_result"
    }
   ],
   "source": [
    "from IPython.core.display import HTML\n",
    "import base64\n",
    "import numpy as np\n",
    "from io import BytesIO\n",
    "from PIL import Image\n",
    "\n",
    "numcanvas = '''\n",
    "    使い方：<BR>\n",
    "    ①黄色の範囲内にマウスでに数字を書きます<BR>\n",
    "    <canvas id=\"numArea\" height=\"28px\" width=\"28px\" \n",
    "    style=\"border: 3px double #999999; background-color:yellow;\"></canvas>\n",
    "    <BR>\n",
    "\n",
    "    <button id=\"save\">②このボタンを押すと数値（配列）に変換されます</button>\n",
    "    <BR>\n",
    "    （書き直す場合はセルを再実行して下さい）\n",
    "    <script>\n",
    "        var kernel = IPython.notebook.kernel;\n",
    "\n",
    "        var currentX ;\n",
    "        var currentY ;\n",
    "        var isMoving = 0;\n",
    "\n",
    "        var imgDecoded \n",
    "            = 'imgArray = np.asarray(Image.open(BytesIO(base64.b64decode(imgDataSp))))[:,:,3]'\n",
    "        var save = document.getElementById(\"save\");\n",
    "        var numArea = document.getElementById(\"numArea\");\n",
    "        var context;\n",
    "        if (numArea.getContext(\"2d\")){\n",
    "            context = numArea.getContext(\"2d\");\n",
    "        }\n",
    "\n",
    "        save.addEventListener(\"click\", function(){\n",
    "            kernel.execute(\"imgData = '\" + numArea.toDataURL() + \"'\");\n",
    "            kernel.execute('imgDataSp = imgData.split(\",\")[-1]');\n",
    "            kernel.execute('imgArray = '+imgDecoded);\n",
    "        });\n",
    "\n",
    "        numArea.addEventListener(\"mouseup\", end, false);\n",
    "        numArea.addEventListener(\"mousemove\", move, false);\n",
    "        numArea.addEventListener(\"mousedown\", start, false);\n",
    "\n",
    "        function end(evt){\n",
    "            if(isMoving === 0){\n",
    "               context.lineTo(currentX-1, currentY-1);\n",
    "               context.lineWidth = 2;\n",
    "               context.stroke();\n",
    "\n",
    "            }\n",
    "            isMoving = 0;\n",
    "        }\n",
    "\n",
    "        function move(evt){\n",
    "          if(evt.buttons === 1 || evt.witch === 1 ){\n",
    "            currentX = evt.layerX;\n",
    "            currentY = evt.layerY;\n",
    "            isMoving = 1;\n",
    "\n",
    "            context.lineTo(currentX, currentY);\n",
    "            context.lineWidth = 2;\n",
    "            context.stroke();\n",
    "          }\n",
    "        }\n",
    "\n",
    "        function start(evt){\n",
    "          evt.preventDefault();\n",
    "          context.beginPath();\n",
    "\n",
    "          currentX = evt.layerX;\n",
    "          currentY = evt.layerY;\n",
    "\n",
    "          context.moveTo(currentX, currentY);\n",
    "        }\n",
    "\n",
    "    </script>\n",
    "'''\n",
    "\n",
    "HTML(numcanvas)"
   ]
  },
  {
   "cell_type": "code",
   "execution_count": 14,
   "metadata": {},
   "outputs": [
    {
     "name": "stdout",
     "output_type": "stream",
     "text": [
      "取り込んだ文字（拡大）\n"
     ]
    },
    {
     "data": {
      "image/png": "[encoded data removed]",
      "text/plain": [
       "<Figure size 432x288 with 1 Axes>"
      ]
     },
     "metadata": {
      "needs_background": "light"
     },
     "output_type": "display_data"
    },
    {
     "name": "stdout",
     "output_type": "stream",
     "text": [
      "文字を①次元の配列に変換した数値を参照すると、0から255の値であることがわかります\n",
      "[  0   0   0   0   0   0   0   0   0   0   0   0   0   0   0   0   0   0\n",
      "   0   0   0   0   0   0   0   0   0   0   0   0   0   0   0   0   0   0\n",
      "   0   0   0   0   0   0   0   0   0   0   0   0   0   0   0   0   0   0\n",
      "   0   0   0   0   0   0   0   0   0   0   0   0   0   0   0   0   0   0\n",
      "   0   0   0   0   0   0   0   0   0   0   0   0   0   0   0   0   0   0\n",
      "   0   0   0   0   0   0   0   0   0   0   0   0   0   0   0   0   0   0\n",
      "   0   0   0   0   0   0   0   0   0   0   0   0   0   0   0   0   0   0\n",
      "   0   0   0   0   0   0   0   0   0   0   0   0   0   0   0   0   0   0\n",
      "   0   0   0   0   0   0   0   0   0   0   0   0   0   0   0   0   0   0\n",
      "   0   0   0   0   0   0   0   0   0   0   0   0   0   0   0   0 255 255\n",
      "   0   0   0   0   0   0   0   0   0   0   0 255 255   0   0   0   0   0\n",
      "   0   0   0   0   0   0   0   0 255 255   0   0   0   0   0   0   0   0\n",
      "   0   0   0 255 255   0   0   0   0   0   0   0   0   0   0   0   0   0\n",
      " 255 255   0   0   0   0   0   0   0   0   0   0   0 255 255   0   0   0\n",
      "   0   0   0   0   0   0   0   0   0   0 255 255   0   0   0   0   0   0\n",
      "   0   0   0   0   0 255 255   0   0   0   0   0   0   0   0   0   0   0\n",
      "  16 255 255 255   0   0   0   0   0   0   0   0   0   0   0 255 255   0\n",
      "   0   0   0   0   0   0   0   0   0 255 255 255 255 255   0   0   0   0\n",
      "   0   0   0   0   0   0   0 255 255   0   0   0   0   0   0   0   0   0\n",
      " 253 255 255 255 254   0   0   0   0   0   0   0   0   0   0   0   0 255\n",
      " 255   0   0   0   0   0   0   0   0 253 255 255 255  21   0   0   0   0\n",
      "   0   0   0   0   0   0   0   0   0 255 255   0   0   0   0   0   0   0\n",
      " 252 255 255 255 253   0   0   0   0   0   0   0   0   0   0   0   0   0\n",
      " 221 255 255   0   0   0   0   0   0   0 255 255 255 254 253 251 247 241\n",
      " 235 226 213 199 182 163 143 124 102  82 255 255 255  18   9   3   0   0\n",
      "   0   0 255 255 255 255 255 255 255 255 255 255 255 255 255 255 255 255\n",
      " 255 255 255 255 255 255 255 255   0   0   0   0 255 255 255 255 255 255\n",
      " 255 255 255 255 255 255 255 255 255 255 255 255 255 255 255 255 255 255\n",
      "   0   0   0   0   0   0   0   0   0   0   0   0   0   0   0   0   0   0\n",
      "   0   0   0   0 255 255   0   0   0   0   0   0   0   0   0   0   0   0\n",
      "   0   0   0   0   0   0   0   0   0   0   0   0   0   0 255 255   0   0\n",
      "   0   0   0   0   0   0   0   0   0   0   0   0   0   0   0   0   0   0\n",
      "   0   0   0   0 255 255 255 255   0   0   0   0   0   0   0   0   0   0\n",
      "   0   0   0   0   0   0   0   0   0   0   0   0   0   0 255 255 255 255\n",
      "   0   0   0   0   0   0   0   0   0   0   0   0   0   0   0   0   0   0\n",
      "   0   0   0   0   0   0 255 255   0   0   0   0   0   0   0   0   0   0\n",
      "   0   0   0   0   0   0   0   0   0   0   0   0   0   0   0   0 255 255\n",
      "   0   0   0   0   0   0   0   0   0   0   0   0   0   0   0   0   0   0\n",
      "   0   0   0   0   0   0   0   0 255 255   0   0   0   0   0   0   0   0\n",
      "   0   0   0   0   0   0   0   0   0   0   0   0   0   0   0   0   0   0\n",
      "   0   0   0   0   0   0   0   0   0   0   0   0   0   0   0   0   0   0\n",
      "   0   0   0   0   0   0   0   0   0   0   0   0   0   0   0   0   0   0\n",
      "   0   0   0   0   0   0   0   0   0   0   0   0   0   0   0   0   0   0\n",
      "   0   0   0   0   0   0   0   0   0   0]\n"
     ]
    }
   ],
   "source": [
    "print(\"取り込んだ文字（拡大）\")\n",
    "plt.imshow(imgArray, cmap=\"Greys\")\n",
    "plt.show()\n",
    "\n",
    "print(\"文字を①次元の配列に変換した数値を参照すると、0から255の値であることがわかります\")\n",
    "imgArray_flatten = imgArray.flatten()#1次元のベクトルに変換\n",
    "print(imgArray_flatten)"
   ]
  },
  {
   "cell_type": "code",
   "execution_count": 15,
   "metadata": {},
   "outputs": [
    {
     "name": "stdout",
     "output_type": "stream",
     "text": [
      "[[0. 0. 0. 0. 1. 0. 0. 0. 0. 0.]]\n"
     ]
    },
    {
     "data": {
      "text/plain": [
       "<BarContainer object of 10 artists>"
      ]
     },
     "execution_count": 15,
     "metadata": {},
     "output_type": "execute_result"
    },
    {
     "data": {
      "image/png": "[encoded data removed]",
      "text/plain": [
       "<Figure size 432x288 with 1 Axes>"
      ]
     },
     "metadata": {
      "needs_background": "light"
     },
     "output_type": "display_data"
    }
   ],
   "source": [
    "import matplotlib.pyplot as plt\n",
    "\n",
    "# 分類する\n",
    "result = y.eval(feed_dict={x: [imgArray_flatten]})\n",
    "\n",
    "print(result) # 分類結果の表示。配列の先頭が0で末尾が9に相当し、可能性が高いと判定されたものほど1に近い値が表示\n",
    "\n",
    "plt.bar(np.array([0, 1, 2, 3, 4, 5, 6, 7, 8, 9]), result[0])"
   ]
  },
  {
   "cell_type": "code",
   "execution_count": null,
   "metadata": {},
   "outputs": [],
   "source": []
  }
 ],
 "metadata": {
  "kernelspec": {
   "display_name": "Python 3",
   "language": "python",
   "name": "python3"
  },
  "language_info": {
   "codemirror_mode": {
    "name": "ipython",
    "version": 3
   },
   "file_extension": ".py",
   "mimetype": "text/x-python",
   "name": "python",
   "nbconvert_exporter": "python",
   "pygments_lexer": "ipython3",
   "version": "3.7.6"
  }
 },
 "nbformat": 4,
 "nbformat_minor": 4
}
